{
 "cells": [
  {
   "cell_type": "markdown",
   "metadata": {},
   "source": [
    "### Proponer posibles optimizaciones (numéricas, computacionales) sobre el código generado.\n"
   ]
  },
  {
   "cell_type": "markdown",
   "metadata": {},
   "source": [
    "- Normalizar los datos mejoraría los resultados, aunque se puede hacer fácilmente fuera del propio algoritmo, lo que se puede hacer\n",
    "fácil con sklearn\n",
    "\n",
    "-  Kmeans es fuertemente dependiente de la elección inicial de los centros. Se pueden realizar varias corridas usando distintos seeds para lograr mejores resultados. También se puede probar usando como centros iniciales puntos que no estén entre los datos.\n",
    "\n",
    "- Para mejorar la elección del K, se podría grabar la heterogeneidad y observar cómo decae.\n",
    "\n",
    "- Los pasos de clasificar/asignar nuevos centros pueden tomarse dentro del esquema map/reduce, con lo cual se puede paralelizar el proceso.\n",
    "\n",
    " "
   ]
  },
  {
   "cell_type": "markdown",
   "metadata": {},
   "source": [
    "### ¿Cuáles son las ventajas de k-means++?"
   ]
  },
  {
   "cell_type": "markdown",
   "metadata": {},
   "source": [
    "K-means++ ataca el segundo punto de la respuesta anterior, la fuerte dependencia de Kmeans con la elección de los centros. Elegidos así aleatoriamente, el algoritmo siempre elige mejores centros, pero puede converge a un máximo local de mala calidad.\n",
    "El algoritmo de K-means++ es igual al de K-Means, con la salvedad de que la elección inicial de este método le da más velocidad de convergencia y precisión.\n",
    "En el paper, los experimentos muestran que k-means++ siempre arroja mejores resultados en precisión y tiempo, algunas veces mejorando estos en órdenes de magnitud."
   ]
  }
 ],
 "metadata": {
  "kernelspec": {
   "display_name": "Python 2",
   "language": "python",
   "name": "python2"
  },
  "language_info": {
   "codemirror_mode": {
    "name": "ipython",
    "version": 2
   },
   "file_extension": ".py",
   "mimetype": "text/x-python",
   "name": "python",
   "nbconvert_exporter": "python",
   "pygments_lexer": "ipython2",
   "version": "2.7.16"
  }
 },
 "nbformat": 4,
 "nbformat_minor": 2
}
